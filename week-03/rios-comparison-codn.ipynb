{
 "cells": [
  {
   "cell_type": "code",
   "execution_count": 1,
   "id": "791c17f8-17b2-42e9-adc3-1f768a2a5037",
   "metadata": {},
   "outputs": [],
   "source": [
    "# Boston population data\n",
    "boston_1850 = 136881\n",
    "boston_1860 = 177840\n",
    "boston_1870 = 250526\n",
    "\n",
    "# New York population data\n",
    "ny_1850 = 515547\n",
    "ny_1860 = 813669\n",
    "ny_1870 = 942292\n",
    "\n",
    "# Philadelphia population data\n",
    "phil_1850 = 121376\n",
    "phil_1860 = 565529\n",
    "phil_1870 = 674022\n"
   ]
  },
  {
   "cell_type": "markdown",
   "id": "86ffbeec-01ee-4e65-92fc-7b61e476fb0b",
   "metadata": {},
   "source": [
    "basic comparisons"
   ]
  },
  {
   "cell_type": "code",
   "execution_count": 3,
   "id": "1e9500db-454f-4b93-8813-2c0fec5461f9",
   "metadata": {},
   "outputs": [
    {
     "name": "stdout",
     "output_type": "stream",
     "text": [
      "Boston in 1870 had more than 200k ppl\n"
     ]
    }
   ],
   "source": [
    "if boston_1870 > 200000:\n",
    "    print(\"Boston in 1870 had more than 200k ppl\")"
   ]
  },
  {
   "cell_type": "code",
   "execution_count": 4,
   "id": "5e188b31-6195-4b9b-9fd7-c51c85b828a3",
   "metadata": {},
   "outputs": [
    {
     "name": "stdout",
     "output_type": "stream",
     "text": [
      "NYC had a bigger population than Philly\n"
     ]
    }
   ],
   "source": [
    "if ny_1860>phil_1860:\n",
    "    print(\"NYC had a bigger population than Philly\")\n",
    "else:\n",
    "    print(\"Philly had a bigger population than NYC\")"
   ]
  },
  {
   "cell_type": "markdown",
   "id": "2ec5c8df-1ed9-43dd-82df-a0522befa434",
   "metadata": {},
   "source": [
    "**dearest** magic jupyter notebook 8-ball: did philly's population double between 1850 to 1860?\n"
   ]
  },
  {
   "cell_type": "code",
   "execution_count": 6,
   "id": "f5d2c2b6-02eb-4f36-9e9c-284b02057e9a",
   "metadata": {},
   "outputs": [
    {
     "name": "stdout",
     "output_type": "stream",
     "text": [
      "yes\n"
     ]
    }
   ],
   "source": [
    "if phil_1860 >= phil_1850*2:\n",
    "    print(\"yes\")\n",
    "else:\n",
    "    print(\"no\")"
   ]
  },
  {
   "cell_type": "code",
   "execution_count": 12,
   "id": "d35fd966-27ec-442d-87ad-60d4dc04b367",
   "metadata": {},
   "outputs": [],
   "source": [
    "# Calculate population growth\n",
    "boston_growth = boston_1870 - boston_1850\n",
    "ny_growth = ny_1870 - ny_1850\n",
    "phil_growth = phil_1870 - phil_1850\n"
   ]
  },
  {
   "cell_type": "code",
   "execution_count": 18,
   "id": "b3d6a810-e31f-4254-a5cd-1e7d9499417d",
   "metadata": {},
   "outputs": [
    {
     "name": "stdout",
     "output_type": "stream",
     "text": [
      "boston grew by over 100k peeps to have over 200k ppl by 1870\n"
     ]
    }
   ],
   "source": [
    "if boston_1870 > 200000 and boston_growth >100000:\n",
    "    print(\"boston grew by over 100k peeps to have over 200k ppl by 1870\")"
   ]
  },
  {
   "cell_type": "code",
   "execution_count": null,
   "id": "40282643-3ebc-4ad4-b94e-9d6357c4f54e",
   "metadata": {},
   "outputs": [],
   "source": []
  }
 ],
 "metadata": {
  "kernelspec": {
   "display_name": "Python [conda env:base] *",
   "language": "python",
   "name": "conda-base-py"
  },
  "language_info": {
   "codemirror_mode": {
    "name": "ipython",
    "version": 3
   },
   "file_extension": ".py",
   "mimetype": "text/x-python",
   "name": "python",
   "nbconvert_exporter": "python",
   "pygments_lexer": "ipython3",
   "version": "3.12.7"
  }
 },
 "nbformat": 4,
 "nbformat_minor": 5
}
